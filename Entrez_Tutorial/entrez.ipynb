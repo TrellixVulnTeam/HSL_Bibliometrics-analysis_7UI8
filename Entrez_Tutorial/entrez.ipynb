{
 "cells": [
  {
   "cell_type": "code",
   "execution_count": 7,
   "metadata": {},
   "outputs": [],
   "source": [
    "import entrezpy\n",
    "from Bio import Entrez\n",
    "from Bio import Medline\n",
    "import json\n",
    "import io\n",
    "from tqdm.notebook import tqdm\n",
    "import pandas as pd\n",
    "import requests\n",
    "from collections import defaultdict\n",
    "\n",
    "# Set up the api key and email to access entrez database\n",
    "Entrez.api_key = \"d4419da12a995f11504887366d19a2830c07\"\n",
    "\n",
    "# Don't use this email for your regular retreival, use your own email\n",
    "Entrez.email = \"hslexample@gmail.com\" \n",
    "\n",
    "# Define retreive number\n",
    "RET_NUM = 20\n",
    "\n"
   ]
  },
  {
   "cell_type": "markdown",
   "metadata": {},
   "source": [
    "## Basic function"
   ]
  },
  {
   "cell_type": "markdown",
   "metadata": {},
   "source": [
    "### XML format parser"
   ]
  },
  {
   "cell_type": "markdown",
   "metadata": {},
   "source": [
    "Regardless of return types you select, Api will first return *a _io.TextIOWrapper* type *handle* which includes publication data in an XML format. If you download xml file from pubmed web interface, you want to use **open()** to open this file, which will return this format.\n",
    "\n",
    "There are two functions provided by entrez to parse XML files, **read()** and **parser()**. \n"
   ]
  },
  {
   "cell_type": "markdown",
   "metadata": {},
   "source": [
    "### ESearch"
   ]
  },
  {
   "cell_type": "code",
   "execution_count": 20,
   "metadata": {},
   "outputs": [
    {
     "name": "stdout",
     "output_type": "stream",
     "text": [
      "<Element 'front' at 0x00000262F172C548>\n"
     ]
    }
   ],
   "source": [
    "# ESearch searches and retrieves primary IDs (for use in EFetch, ELink and ESummary) and term translations, \n",
    "# and optionally retains results for future use in the user's environment.\n",
    "\n",
    "query_term = \"Diabetes[title] AND Female[title]\"\n",
    "\n",
    "# Return a handle to the results which are always in XML format by default.\n",
    "handleSearch = Entrez.esearch(db=\"pubmed\", \n",
    "                        term = query_term, \n",
    "                        retmode = 'xml',\n",
    "                        sort = 'relevance',\n",
    "                        retmax = RET_NUM )\n",
    "recordhandleSearch = Entrez.read(handleSearch)\n",
    "idlist = recordhandleSearch[\"IdList\"]\n",
    "# print(record)\n",
    "\n"
   ]
  },
  {
   "cell_type": "markdown",
   "metadata": {},
   "source": [
    "### Efetch\n",
    "This function is used to retrieve a full record for a list of input UIDs from Entrez\n",
    "The return format can be varied based on which dataset you retrieve. see [detail](https://www.ncbi.nlm.nih.gov/books/NBK25499/table/chapter4.T._valid_values_of__retmode_and/?report=objectonly). \n",
    "For pubmed, it allows XML, MEDLINE, PMID list, Abstract. "
   ]
  },
  {
   "cell_type": "code",
   "execution_count": 134,
   "metadata": {
    "scrolled": true
   },
   "outputs": [
    {
     "data": {
      "application/vnd.jupyter.widget-view+json": {
       "model_id": "01475d43a3994ab6a6591d8a34237b57",
       "version_major": 2,
       "version_minor": 0
      },
      "text/plain": [
       "HBox(children=(IntProgress(value=0, max=20), HTML(value='')))"
      ]
     },
     "metadata": {},
     "output_type": "display_data"
    },
    {
     "name": "stdout",
     "output_type": "stream",
     "text": [
      "\n"
     ]
    }
   ],
   "source": [
    "handleFetch = Entrez.efetch(db=\"pubmed\", id = idlist, retmode=\"xml\")\n",
    "recordhandleSearch = Entrez.read(handleFetch)\n",
    "# can also use a predefined function to parse the handle object to get a dataframe\n",
    "df = parse_handle(handleFetch)\n",
    "# print(df)"
   ]
  },
  {
   "cell_type": "markdown",
   "metadata": {},
   "source": [
    "### Epost\n",
    "This function accepts a list of UIDs from a given database, stores the set on the History Server, and responds with a query key and web environment for the uploaded dataset. This is mainly for future use of existing records"
   ]
  },
  {
   "cell_type": "code",
   "execution_count": 22,
   "metadata": {
    "scrolled": false
   },
   "outputs": [],
   "source": [
    "# Post the idlist retreived from search to history server\n",
    "handlePost = Entrez.epost(db=\"pubmed\", id = idlist)"
   ]
  },
  {
   "cell_type": "markdown",
   "metadata": {},
   "source": [
    "### Elink\n",
    "This function find entities in a database A that linked to another set of entities in database B. \n",
    "1. Returns UIDs linked to an input set of UIDs in either the same or a different Entrez database\n",
    "2. Returns UIDs linked to other UIDs in the same Entrez database that match an Entrez query\n",
    "3. Checks for the existence of Entrez links for a set of UIDs within the same database\n",
    "4. Lists the available links for a UID\n",
    "5. Lists LinkOut URLs and attributes for a set of UIDs\n",
    "6. Lists hyperlinks to primary LinkOut providers for a set of UIDs\n",
    "7. Creates hyperlinks to the primary LinkOut provider for a single UID"
   ]
  },
  {
   "cell_type": "code",
   "execution_count": 33,
   "metadata": {},
   "outputs": [],
   "source": [
    "handleLink = Entrez.elink(db = \"pmc\", dbfrom = \"pubmed\", id = idlist, cmd = \"neighbor_score\")"
   ]
  },
  {
   "cell_type": "code",
   "execution_count": 34,
   "metadata": {},
   "outputs": [
    {
     "name": "stdout",
     "output_type": "stream",
     "text": [
      "['32814108', '32742387', '32488735', '32708907', '32354622', '32470060', '32267365', '31502642', '32073219', '31867989', '32352894', '32299459', '31642603', '32213183', '32046486', '32685429', '32146632', '32248149', '31965302', '31433270']\n"
     ]
    },
    {
     "data": {
      "text/plain": [
       "'<?xml version=\"1.0\" encoding=\"UTF-8\" ?>\\n<!DOCTYPE eLinkResult PUBLIC \"-//NLM//DTD elink 20101123//EN\" \"https://eutils.ncbi.nlm.nih.gov/eutils/dtd/20101123/elink.dtd\">\\n<eLinkResult>\\n\\n  <LinkSet>\\n    <DbFrom>pubmed</DbFrom>\\n    <IdList>\\n      <Id>32814108</Id>\\n    </IdList>\\n    \\n    \\n    \\n    \\n    \\n  </LinkSet>\\n\\n  <LinkSet>\\n    <DbFrom>pubmed</DbFrom>\\n    <IdList>\\n      <Id>32742387</Id>\\n    </IdList>\\n    <LinkSetDb>\\n      <DbTo>pmc</DbTo>\\n      <LinkName>pubmed_pmc</LinkName>\\n      \\n        <Link>\\n\\t\\t\\t\\t<Id>7388399</Id>\\n\\t\\t\\t\\t<Score>1</Score>\\n\\t\\t\\t</Link>\\n      \\n    </LinkSetDb>\\n    \\n    \\n    \\n    <LinkSetDb>\\n      <DbTo>pmc</DbTo>\\n      <LinkName>pubmed_pmc_local</LinkName>\\n      \\n        <Link>\\n\\t\\t\\t\\t<Id>7388399</Id>\\n\\t\\t\\t\\t<Score>0</Score>\\n\\t\\t\\t</Link>\\n      \\n    </LinkSetDb>\\n  </LinkSet>\\n\\n  <LinkSet>\\n    <DbFrom>pubmed</DbFrom>\\n    <IdList>\\n      <Id>32488735</Id>\\n    </IdList>\\n    \\n    \\n    \\n    \\n    \\n  </LinkSet>\\n\\n  <LinkSet>\\n    <DbFrom>pubmed</DbFrom>\\n    <IdList>\\n      <Id>32708907</Id>\\n    </IdList>\\n    <LinkSetDb>\\n      <DbTo>pmc</DbTo>\\n      <LinkName>pubmed_pmc</LinkName>\\n      \\n        <Link>\\n\\t\\t\\t\\t<Id>7404394</Id>\\n\\t\\t\\t\\t<Score>1</Score>\\n\\t\\t\\t</Link>\\n      \\n    </LinkSetDb>\\n    \\n    \\n    \\n    <LinkSetDb>\\n      <DbTo>pmc</DbTo>\\n      <LinkName>pubmed_pmc_local</LinkName>\\n      \\n        <Link>\\n\\t\\t\\t\\t<Id>7404394</Id>\\n\\t\\t\\t\\t<Score>0</Score>\\n\\t\\t\\t</Link>\\n      \\n    </LinkSetDb>\\n  </LinkSet>\\n\\n  <LinkSet>\\n    <DbFrom>pubmed</DbFrom>\\n    <IdList>\\n      <Id>32354622</Id>\\n    </IdList>\\n    \\n    \\n    \\n    \\n    \\n  </LinkSet>\\n\\n  <LinkSet>\\n    <DbFrom>pubmed</DbFrom>\\n    <IdList>\\n      <Id>32470060</Id>\\n    </IdList>\\n    <LinkSetDb>\\n      <DbTo>pmc</DbTo>\\n      <LinkName>pubmed_pmc</LinkName>\\n      \\n        <Link>\\n\\t\\t\\t\\t<Id>7259508</Id>\\n\\t\\t\\t\\t<Score>1</Score>\\n\\t\\t\\t</Link>\\n      \\n    </LinkSetDb>\\n    \\n    \\n    \\n    <LinkSetDb>\\n      <DbTo>pmc</DbTo>\\n      <LinkName>pubmed_pmc_local</LinkName>\\n      \\n        <Link>\\n\\t\\t\\t\\t<Id>7259508</Id>\\n\\t\\t\\t\\t<Score>0</Score>\\n\\t\\t\\t</Link>\\n      \\n    </LinkSetDb>\\n  </LinkSet>\\n\\n  <LinkSet>\\n    <DbFrom>pubmed</DbFrom>\\n    <IdList>\\n      <Id>32267365</Id>\\n    </IdList>\\n    \\n    \\n    \\n    \\n    \\n  </LinkSet>\\n\\n  <LinkSet>\\n    <DbFrom>pubmed</DbFrom>\\n    <IdList>\\n      <Id>31502642</Id>\\n    </IdList>\\n    \\n    \\n    <LinkSetDb>\\n      <DbTo>pmc</DbTo>\\n      <LinkName>pubmed_pmc_refs</LinkName>\\n      \\n        <Link>\\n\\t\\t\\t\\t<Id>7410195</Id>\\n\\t\\t\\t\\t<Score>31502642</Score>\\n\\t\\t\\t</Link>\\n      \\n    </LinkSetDb>\\n    \\n    \\n  </LinkSet>\\n\\n  <LinkSet>\\n    <DbFrom>pubmed</DbFrom>\\n    <IdList>\\n      <Id>32073219</Id>\\n    </IdList>\\n    \\n    \\n    \\n    \\n    \\n  </LinkSet>\\n\\n  <LinkSet>\\n    <DbFrom>pubmed</DbFrom>\\n    <IdList>\\n      <Id>31867989</Id>\\n    </IdList>\\n    \\n    \\n    \\n    \\n    \\n  </LinkSet>\\n\\n  <LinkSet>\\n    <DbFrom>pubmed</DbFrom>\\n    <IdList>\\n      <Id>32352894</Id>\\n    </IdList>\\n    \\n    \\n    \\n    \\n    \\n  </LinkSet>\\n\\n  <LinkSet>\\n    <DbFrom>pubmed</DbFrom>\\n    <IdList>\\n      <Id>32299459</Id>\\n    </IdList>\\n    <LinkSetDb>\\n      <DbTo>pmc</DbTo>\\n      <LinkName>pubmed_pmc</LinkName>\\n      \\n        <Link>\\n\\t\\t\\t\\t<Id>7160956</Id>\\n\\t\\t\\t\\t<Score>1</Score>\\n\\t\\t\\t</Link>\\n      \\n    </LinkSetDb>\\n    \\n    \\n    \\n    <LinkSetDb>\\n      <DbTo>pmc</DbTo>\\n      <LinkName>pubmed_pmc_local</LinkName>\\n      \\n        <Link>\\n\\t\\t\\t\\t<Id>7160956</Id>\\n\\t\\t\\t\\t<Score>0</Score>\\n\\t\\t\\t</Link>\\n      \\n    </LinkSetDb>\\n  </LinkSet>\\n\\n  <LinkSet>\\n    <DbFrom>pubmed</DbFrom>\\n    <IdList>\\n      <Id>31642603</Id>\\n    </IdList>\\n    \\n    \\n    \\n    \\n    \\n  </LinkSet>\\n\\n  <LinkSet>\\n    <DbFrom>pubmed</DbFrom>\\n    <IdList>\\n      <Id>32213183</Id>\\n    </IdList>\\n    <LinkSetDb>\\n      <DbTo>pmc</DbTo>\\n      <LinkName>pubmed_pmc</LinkName>\\n      \\n        <Link>\\n\\t\\t\\t\\t<Id>7093979</Id>\\n\\t\\t\\t\\t<Score>1</Score>\\n\\t\\t\\t</Link>\\n      \\n    </LinkSetDb>\\n    \\n    \\n    \\n    <LinkSetDb>\\n      <DbTo>pmc</DbTo>\\n      <LinkName>pubmed_pmc_local</LinkName>\\n      \\n        <Link>\\n\\t\\t\\t\\t<Id>7093979</Id>\\n\\t\\t\\t\\t<Score>0</Score>\\n\\t\\t\\t</Link>\\n      \\n    </LinkSetDb>\\n  </LinkSet>\\n\\n  <LinkSet>\\n    <DbFrom>pubmed</DbFrom>\\n    <IdList>\\n      <Id>32046486</Id>\\n    </IdList>\\n    \\n    \\n    \\n    \\n    \\n  </LinkSet>\\n\\n  <LinkSet>\\n    <DbFrom>pubmed</DbFrom>\\n    <IdList>\\n      <Id>32685429</Id>\\n    </IdList>\\n    \\n    <LinkSetDb>\\n      <DbTo>pmc</DbTo>\\n      <LinkName>pubmed_pmc_embargo</LinkName>\\n      \\n        <Link>\\n\\t\\t\\t\\t<Id>7351921</Id>\\n\\t\\t\\t\\t<Score>1</Score>\\n\\t\\t\\t</Link>\\n      \\n    </LinkSetDb>\\n    \\n    \\n    \\n  </LinkSet>\\n\\n  <LinkSet>\\n    <DbFrom>pubmed</DbFrom>\\n    <IdList>\\n      <Id>32146632</Id>\\n    </IdList>\\n    \\n    \\n    \\n    \\n    \\n  </LinkSet>\\n\\n  <LinkSet>\\n    <DbFrom>pubmed</DbFrom>\\n    <IdList>\\n      <Id>32248149</Id>\\n    </IdList>\\n    \\n    \\n    \\n    \\n    \\n  </LinkSet>\\n\\n  <LinkSet>\\n    <DbFrom>pubmed</DbFrom>\\n    <IdList>\\n      <Id>31965302</Id>\\n    </IdList>\\n    \\n    \\n    \\n    \\n    \\n  </LinkSet>\\n\\n  <LinkSet>\\n    <DbFrom>pubmed</DbFrom>\\n    <IdList>\\n      <Id>31433270</Id>\\n    </IdList>\\n    \\n    \\n    <LinkSetDb>\\n      <DbTo>pmc</DbTo>\\n      <LinkName>pubmed_pmc_refs</LinkName>\\n      \\n        <Link>\\n\\t\\t\\t\\t<Id>6921479</Id>\\n\\t\\t\\t\\t<Score>31433270</Score>\\n\\t\\t\\t</Link>\\n      \\n    </LinkSetDb>\\n    \\n    \\n  </LinkSet>\\n</eLinkResult>\\n'"
      ]
     },
     "execution_count": 34,
     "metadata": {},
     "output_type": "execute_result"
    }
   ],
   "source": [
    "print(idlist)\n",
    "handleLink.read()"
   ]
  },
  {
   "cell_type": "markdown",
   "metadata": {
    "scrolled": true
   },
   "source": [
    "## Basic pipeline"
   ]
  },
  {
   "cell_type": "markdown",
   "metadata": {},
   "source": [
    "Upon the above functions, we can develop [pipeline operations](https://www.ncbi.nlm.nih.gov/books/NBK25497/) on pubmed by sequencing those functions to perform basic and avdanced tasks. \n",
    "#### Retrieve data records\n",
    "1. Esearch --> Esummary\n",
    "2. Esearch --> Efetch\n",
    "\n",
    "#### \n",
    "\n",
    "\n",
    "\n",
    "\n",
    "\n",
    "\n",
    "\n",
    "\n",
    "\n"
   ]
  },
  {
   "cell_type": "code",
   "execution_count": null,
   "metadata": {},
   "outputs": [],
   "source": []
  }
 ],
 "metadata": {
  "kernelspec": {
   "display_name": "Python 3",
   "language": "python",
   "name": "python3"
  },
  "language_info": {
   "codemirror_mode": {
    "name": "ipython",
    "version": 3
   },
   "file_extension": ".py",
   "mimetype": "text/x-python",
   "name": "python",
   "nbconvert_exporter": "python",
   "pygments_lexer": "ipython3",
   "version": "3.7.4"
  }
 },
 "nbformat": 4,
 "nbformat_minor": 2
}
