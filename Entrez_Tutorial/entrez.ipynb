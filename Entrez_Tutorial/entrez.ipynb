{
 "cells": [
  {
   "cell_type": "code",
   "execution_count": 17,
   "metadata": {},
   "outputs": [],
   "source": [
    "import entrezpy\n",
    "from Bio import Entrez\n",
    "from Bio import Medline\n",
    "import json\n",
    "import io\n",
    "from tqdm.notebook import tqdm\n",
    "import pandas as pd\n",
    "import requests\n",
    "from collections import defaultdict\n",
    "import utils\n",
    "\n",
    "\n",
    "# Set up the api key and email to access entrez database\n",
    "Entrez.api_key = \"d4419da12a995f11504887366d19a2830c07\"\n",
    "\n",
    "# Don't use this email for your regular retreival, use your own email\n",
    "Entrez.email = \"hslexample@gmail.com\" \n",
    "\n",
    "# Define retreive number\n",
    "RET_NUM = 20\n",
    "\n"
   ]
  },
  {
   "cell_type": "markdown",
   "metadata": {
    "heading_collapsed": true
   },
   "source": [
    "## Basic function"
   ]
  },
  {
   "cell_type": "markdown",
   "metadata": {
    "heading_collapsed": true,
    "hidden": true
   },
   "source": [
    "### ESearch\n",
    "ESearch searches and retrieves primary IDs (for use in EFetch, ELink and ESummary) and term translations, and optionally retains results for future use in the user's environment. In addition, you can enable search history by setting up ***usehistory*** as \"y\""
   ]
  },
  {
   "cell_type": "code",
   "execution_count": 5,
   "metadata": {
    "hidden": true,
    "pycharm": {
     "name": "#%%\n"
    }
   },
   "outputs": [
    {
     "name": "stdout",
     "output_type": "stream",
     "text": [
      "['31965302', '32352894', '32742387', '32488735', '32814108', '32708907', '32354622', '32470060', '32073219', '32267365', '31502642', '32299459', '31867989', '31642603', '32046486', '32213183', '32146632', '32685429', '32248149', '31433270']\n"
     ]
    }
   ],
   "source": [
    "query_term = \"Diabetes[title] AND Female[title]\"\n",
    "\n",
    "# Return a handle to the results which are always in XML format by default.\n",
    "handleSearch = Entrez.esearch(db=\"pubmed\", \n",
    "                        term = query_term, \n",
    "                        retmode = 'xml',\n",
    "                        sort = 'relevance',\n",
    "                        retmax = RET_NUM )\n",
    "\n",
    "# Return a dictionary of metadata of the search\n",
    "recordhandleSearch = Entrez.read(handleSearch)\n",
    "idlist = recordhandleSearch[\"IdList\"]\n",
    "# print(idlist)\n"
   ]
  },
  {
   "cell_type": "markdown",
   "metadata": {
    "heading_collapsed": true,
    "hidden": true
   },
   "source": [
    "### Efetch\n",
    "This function is used to retrieve a full record for a list of input UIDs from Entrez\n",
    "The return format can be varied based on which dataset you retrieve. see [detail](https://www.ncbi.nlm.nih.gov/books/NBK25499/table/chapter4.T._valid_values_of__retmode_and/?report=objectonly). \n",
    "For pubmed, it allows XML (see [example](https://eutils.ncbi.nlm.nih.gov/entrez/eutils/efetch.fcgi?db=pubmed&id=11748933,11700088&retmode=xml)) and MEDLINE (see [example](https://www.nlm.nih.gov/bsd/mms/medlineelements.html)).  "
   ]
  },
  {
   "cell_type": "code",
   "execution_count": null,
   "metadata": {
    "hidden": true,
    "scrolled": false
   },
   "outputs": [],
   "source": [
    "handleFetch = Entrez.efetch(db=\"pubmed\", id = idlist, retmode=\"xml\")\n",
    "recordhandleSearch = Entrez.read(handleFetch)\n",
    "# print(recordhandleSearch)\n",
    "\n",
    "# you can also use a predefined function to parse the handle object to return a dataframe; \n",
    "# the parse_handle is a function in utils\n",
    "df = utils.parse_handle(handleFetch)\n",
    "# print(df)"
   ]
  },
  {
   "cell_type": "markdown",
   "metadata": {
    "heading_collapsed": true,
    "hidden": true
   },
   "source": [
    "### Epost\n",
    "This function accepts a list of UIDs from a given database, stores the set on the History Server, and responds with a query key and web environment for the uploaded dataset. This is mainly for the retrieval and access of existing records in history servers. You can interpret it that you deposit the baggage and is given a key to get it. To demonstrate, we post the list of pmid retrieved in esearch to history server. We will get query_key and WebEnv parameters. \n"
   ]
  },
  {
   "cell_type": "code",
   "execution_count": 21,
   "metadata": {
    "hidden": true,
    "scrolled": false
   },
   "outputs": [
    {
     "data": {
      "text/plain": [
       "{'QueryKey': '1', 'WebEnv': 'MCID_5f59a926a9148b16ed299650'}"
      ]
     },
     "execution_count": 21,
     "metadata": {},
     "output_type": "execute_result"
    }
   ],
   "source": [
    "# Post the idlist retreived from search to history server\n",
    "handlePost = Entrez.epost(db=\"pubmed\", id = \", \".join(idlist))\n",
    "search_results = Entrez.read(handlePost)\n",
    "# search_results"
   ]
  },
  {
   "cell_type": "markdown",
   "metadata": {
    "heading_collapsed": true,
    "hidden": true
   },
   "source": [
    "### Elink\n",
    "This function find entities in a database that linked to a targeted set of entities. The function will return a list of ids that relevan to the targeted id list, if any, with relevancy scores. In the following, we retrieve the documents related to the input id. There is an optional param ***cmd*** that control the action and outcomes of Elink (see [detail](https://www.ncbi.nlm.nih.gov/books/NBK25499/#chapter4.ELink)). For example, if we want to retreive the similarity score between the targeted documents with retrieved documents"
   ]
  },
  {
   "cell_type": "code",
   "execution_count": 10,
   "metadata": {
    "hidden": true
   },
   "outputs": [],
   "source": [
    "# Get related articles' id of the targeted records with the relevancy score\n",
    "handleLink = Entrez.elink(dbfrom = \"pubmed\", id = idlist, cmd = \"neighbor_score\")\n",
    "record = Entrez.read(handleLink)\n",
    "# record"
   ]
  },
  {
   "cell_type": "markdown",
   "metadata": {
    "heading_collapsed": true,
    "hidden": true
   },
   "source": [
    "### XML format parser\n",
    "You may notice that Regardless of return types you select, API will first return *a _io.TextIOWrapper* type *handle* which includes publication data in an XML format. If you download xml file from pubmed web interface, you want to use **open()** to open this file, which will return this format.\n",
    "There are two functions provided by entrez to parse XML files, **read()** and **parser()**. These two function parse an XML file from the NCBI Entrez Utilities into python objects and share many similarities. The difference lies in the way it delivered results. **read()**: obtain the complete file and return a single python list. **parse()**: a generator function and return resutls one by one\n"
   ]
  },
  {
   "cell_type": "markdown",
   "metadata": {
    "hidden": true,
    "pycharm": {
     "name": "#%% md\n"
    }
   },
   "source": [
    "### History server and activities\n",
    "With entrez e-utility, you can store and access the uids you in ESearch, EPost or ELink functions. As described before, you can store the search results (esearch), upload particular uids (epost) and find related records (elink). You can also access the history for further data operation. The ***WebEnv*** and ***query_key*** are the key to such purpose"
   ]
  },
  {
   "cell_type": "markdown",
   "metadata": {
    "heading_collapsed": true,
    "pycharm": {
     "name": "#%% md\n"
    }
   },
   "source": [
    "## Pipeline - Advanced use of functions"
   ]
  },
  {
   "cell_type": "markdown",
   "metadata": {
    "hidden": true
   },
   "source": [
    "Upon the above functions, we can develop [pipeline operations](https://www.ncbi.nlm.nih.gov/books/NBK25497/) on pubmed by sequencing those functions to perform basic and avdanced tasks. \n",
    "\n",
    "#### Retrieve data records\n",
    "1. Esearch --> Efetch\n",
    "\n",
    "#### Retrieving data records matching a list of UIDs\n",
    "1. EPost --> ESearch\n",
    "\n",
    "#### Finding UIDs linked to a set of records\n",
    "1. EPost --> ELink\n",
    "2. ESearch --> ELink\n",
    "\n",
    "#### Limiting a set of records with an Entrez query\n",
    "1. EPost --> ESearch\n",
    "2. ELink --> ESearch"
   ]
  },
  {
   "cell_type": "markdown",
   "metadata": {},
   "source": [
    "## Reference"
   ]
  },
  {
   "cell_type": "markdown",
   "source": [
    "Eric Sayers (2018), A General Introduction to the E-utilities: https://www.ncbi.nlm.nih.gov/books/NBK25499/\n",
    "biopython: https://biopython.readthedocs.io/en/latest/api/Bio.Entrez.html?highlight=entrez"
   ],
   "metadata": {
    "collapsed": false
   }
  },
  {
   "cell_type": "markdown",
   "metadata": {},
   "source": []
  },
  {
   "cell_type": "code",
   "execution_count": null,
   "metadata": {},
   "outputs": [],
   "source": []
  }
 ],
 "metadata": {
  "kernelspec": {
   "display_name": "Python 3",
   "language": "python",
   "name": "python3"
  },
  "language_info": {
   "codemirror_mode": {
    "name": "ipython",
    "version": 3
   },
   "file_extension": ".py",
   "mimetype": "text/x-python",
   "name": "python",
   "nbconvert_exporter": "python",
   "pygments_lexer": "ipython3",
   "version": "3.7.4"
  },
  "pycharm": {
   "stem_cell": {
    "cell_type": "raw",
    "source": [],
    "metadata": {
     "collapsed": false
    }
   }
  }
 },
 "nbformat": 4,
 "nbformat_minor": 2
}